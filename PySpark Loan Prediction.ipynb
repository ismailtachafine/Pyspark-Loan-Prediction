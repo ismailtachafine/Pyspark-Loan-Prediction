{
 "cells": [
  {
   "attachments": {},
   "cell_type": "markdown",
   "metadata": {},
   "source": [
    "### Import Modules"
   ]
  },
  {
   "cell_type": "code",
   "execution_count": 1,
   "metadata": {},
   "outputs": [],
   "source": [
    "import pyspark\n",
    "from pyspark.sql import SparkSession\n",
    "import pyspark.sql.functions as F\n",
    "\n",
    "import pandas as pd\n",
    "\n",
    "import warnings\n",
    "warnings.filterwarnings('ignore')"
   ]
  },
  {
   "cell_type": "code",
   "execution_count": 2,
   "metadata": {},
   "outputs": [],
   "source": [
    "# Initialize the session\n",
    "spark = SparkSession.builder.appName('loan_prediction').getOrCreate()"
   ]
  },
  {
   "attachments": {},
   "cell_type": "markdown",
   "metadata": {},
   "source": [
    "### Load the Dataset"
   ]
  },
  {
   "cell_type": "code",
   "execution_count": 3,
   "metadata": {},
   "outputs": [],
   "source": [
    "df = spark.read.csv('Loan Prediction Dataset.csv', header=True, sep=',', inferSchema=True)"
   ]
  },
  {
   "cell_type": "code",
   "execution_count": 4,
   "metadata": {},
   "outputs": [
    {
     "name": "stdout",
     "output_type": "stream",
     "text": [
      "+--------+------+-------+----------+------------+-------------+---------------+-----------------+----------+----------------+--------------+-------------+-----------+\n",
      "| Loan_ID|Gender|Married|Dependents|   Education|Self_Employed|ApplicantIncome|CoapplicantIncome|LoanAmount|Loan_Amount_Term|Credit_History|Property_Area|Loan_Status|\n",
      "+--------+------+-------+----------+------------+-------------+---------------+-----------------+----------+----------------+--------------+-------------+-----------+\n",
      "|LP001002|  Male|     No|         0|    Graduate|           No|           5849|              0.0|      null|             360|             1|        Urban|          Y|\n",
      "|LP001003|  Male|    Yes|         1|    Graduate|           No|           4583|           1508.0|       128|             360|             1|        Rural|          N|\n",
      "|LP001005|  Male|    Yes|         0|    Graduate|          Yes|           3000|              0.0|        66|             360|             1|        Urban|          Y|\n",
      "|LP001006|  Male|    Yes|         0|Not Graduate|           No|           2583|           2358.0|       120|             360|             1|        Urban|          Y|\n",
      "|LP001008|  Male|     No|         0|    Graduate|           No|           6000|              0.0|       141|             360|             1|        Urban|          Y|\n",
      "+--------+------+-------+----------+------------+-------------+---------------+-----------------+----------+----------------+--------------+-------------+-----------+\n",
      "only showing top 5 rows\n",
      "\n"
     ]
    }
   ],
   "source": [
    "df.show(5)"
   ]
  },
  {
   "cell_type": "code",
   "execution_count": 5,
   "metadata": {},
   "outputs": [
    {
     "data": {
      "text/plain": [
       "[Row(Loan_ID='LP001002', Gender='Male', Married='No', Dependents='0', Education='Graduate', Self_Employed='No', ApplicantIncome=5849, CoapplicantIncome=0.0, LoanAmount=None, Loan_Amount_Term=360, Credit_History=1, Property_Area='Urban', Loan_Status='Y'),\n",
       " Row(Loan_ID='LP001003', Gender='Male', Married='Yes', Dependents='1', Education='Graduate', Self_Employed='No', ApplicantIncome=4583, CoapplicantIncome=1508.0, LoanAmount=128, Loan_Amount_Term=360, Credit_History=1, Property_Area='Rural', Loan_Status='N'),\n",
       " Row(Loan_ID='LP001005', Gender='Male', Married='Yes', Dependents='0', Education='Graduate', Self_Employed='Yes', ApplicantIncome=3000, CoapplicantIncome=0.0, LoanAmount=66, Loan_Amount_Term=360, Credit_History=1, Property_Area='Urban', Loan_Status='Y'),\n",
       " Row(Loan_ID='LP001006', Gender='Male', Married='Yes', Dependents='0', Education='Not Graduate', Self_Employed='No', ApplicantIncome=2583, CoapplicantIncome=2358.0, LoanAmount=120, Loan_Amount_Term=360, Credit_History=1, Property_Area='Urban', Loan_Status='Y'),\n",
       " Row(Loan_ID='LP001008', Gender='Male', Married='No', Dependents='0', Education='Graduate', Self_Employed='No', ApplicantIncome=6000, CoapplicantIncome=0.0, LoanAmount=141, Loan_Amount_Term=360, Credit_History=1, Property_Area='Urban', Loan_Status='Y')]"
      ]
     },
     "execution_count": 5,
     "metadata": {},
     "output_type": "execute_result"
    }
   ],
   "source": [
    "df.head(5)"
   ]
  },
  {
   "cell_type": "code",
   "execution_count": 6,
   "metadata": {},
   "outputs": [
    {
     "name": "stdout",
     "output_type": "stream",
     "text": [
      "root\n",
      " |-- Loan_ID: string (nullable = true)\n",
      " |-- Gender: string (nullable = true)\n",
      " |-- Married: string (nullable = true)\n",
      " |-- Dependents: string (nullable = true)\n",
      " |-- Education: string (nullable = true)\n",
      " |-- Self_Employed: string (nullable = true)\n",
      " |-- ApplicantIncome: integer (nullable = true)\n",
      " |-- CoapplicantIncome: double (nullable = true)\n",
      " |-- LoanAmount: integer (nullable = true)\n",
      " |-- Loan_Amount_Term: integer (nullable = true)\n",
      " |-- Credit_History: integer (nullable = true)\n",
      " |-- Property_Area: string (nullable = true)\n",
      " |-- Loan_Status: string (nullable = true)\n",
      "\n"
     ]
    }
   ],
   "source": [
    "df.printSchema()"
   ]
  },
  {
   "cell_type": "code",
   "execution_count": 7,
   "metadata": {},
   "outputs": [
    {
     "data": {
      "text/plain": [
       "[('Loan_ID', 'string'),\n",
       " ('Gender', 'string'),\n",
       " ('Married', 'string'),\n",
       " ('Dependents', 'string'),\n",
       " ('Education', 'string'),\n",
       " ('Self_Employed', 'string'),\n",
       " ('ApplicantIncome', 'int'),\n",
       " ('CoapplicantIncome', 'double'),\n",
       " ('LoanAmount', 'int'),\n",
       " ('Loan_Amount_Term', 'int'),\n",
       " ('Credit_History', 'int'),\n",
       " ('Property_Area', 'string'),\n",
       " ('Loan_Status', 'string')]"
      ]
     },
     "execution_count": 7,
     "metadata": {},
     "output_type": "execute_result"
    }
   ],
   "source": [
    "df.dtypes"
   ]
  },
  {
   "attachments": {},
   "cell_type": "markdown",
   "metadata": {},
   "source": [
    "## Data Analysis"
   ]
  },
  {
   "cell_type": "code",
   "execution_count": 8,
   "metadata": {},
   "outputs": [
    {
     "name": "stdout",
     "output_type": "stream",
     "text": [
      "+-----------+-----+\n",
      "|Loan_Status|count|\n",
      "+-----------+-----+\n",
      "|          Y|  422|\n",
      "|          N|  192|\n",
      "+-----------+-----+\n",
      "\n"
     ]
    }
   ],
   "source": [
    "# Display count based on Loan status\n",
    "df.groupBy('Loan_Status').count().show()"
   ]
  },
  {
   "cell_type": "code",
   "execution_count": 9,
   "metadata": {},
   "outputs": [
    {
     "name": "stdout",
     "output_type": "stream",
     "text": [
      "+-----------+-------------------+\n",
      "|Loan_Status|avg(Credit_History)|\n",
      "+-----------+-------------------+\n",
      "|          Y| 0.9818181818181818|\n",
      "|          N| 0.5418994413407822|\n",
      "+-----------+-------------------+\n",
      "\n"
     ]
    }
   ],
   "source": [
    "df.select(\"Credit_History\", \"Loan_Status\").groupBy(\"Loan_Status\").agg(F.avg('Credit_History')).show()"
   ]
  },
  {
   "cell_type": "code",
   "execution_count": 10,
   "metadata": {},
   "outputs": [
    {
     "name": "stdout",
     "output_type": "stream",
     "text": [
      "+-----------+------+-----+\n",
      "|Loan_Status|Gender|count|\n",
      "+-----------+------+-----+\n",
      "|          N|Female|   37|\n",
      "|          Y|  null|    8|\n",
      "|          Y|Female|   75|\n",
      "|          N|  null|    5|\n",
      "|          Y|  Male|  339|\n",
      "|          N|  Male|  150|\n",
      "+-----------+------+-----+\n",
      "\n"
     ]
    }
   ],
   "source": [
    "df.select(\"Gender\", \"Loan_Status\").groupBy(\"Loan_Status\", 'Gender').count().show()"
   ]
  },
  {
   "attachments": {},
   "cell_type": "markdown",
   "metadata": {},
   "source": [
    "## Correlation Matrix"
   ]
  },
  {
   "cell_type": "code",
   "execution_count": 11,
   "metadata": {},
   "outputs": [
    {
     "name": "stdout",
     "output_type": "stream",
     "text": [
      "root\n",
      " |-- Loan_ID: string (nullable = true)\n",
      " |-- Gender: string (nullable = true)\n",
      " |-- Married: string (nullable = true)\n",
      " |-- Dependents: string (nullable = true)\n",
      " |-- Education: string (nullable = true)\n",
      " |-- Self_Employed: string (nullable = true)\n",
      " |-- ApplicantIncome: integer (nullable = true)\n",
      " |-- CoapplicantIncome: double (nullable = true)\n",
      " |-- LoanAmount: integer (nullable = true)\n",
      " |-- Loan_Amount_Term: integer (nullable = true)\n",
      " |-- Credit_History: integer (nullable = true)\n",
      " |-- Property_Area: string (nullable = true)\n",
      " |-- Loan_Status: string (nullable = true)\n",
      "\n"
     ]
    }
   ],
   "source": [
    "df.printSchema()"
   ]
  },
  {
   "cell_type": "code",
   "execution_count": 12,
   "metadata": {},
   "outputs": [
    {
     "data": {
      "text/html": [
       "<div>\n",
       "<style scoped>\n",
       "    .dataframe tbody tr th:only-of-type {\n",
       "        vertical-align: middle;\n",
       "    }\n",
       "\n",
       "    .dataframe tbody tr th {\n",
       "        vertical-align: top;\n",
       "    }\n",
       "\n",
       "    .dataframe thead th {\n",
       "        text-align: right;\n",
       "    }\n",
       "</style>\n",
       "<table border=\"1\" class=\"dataframe\">\n",
       "  <thead>\n",
       "    <tr style=\"text-align: right;\">\n",
       "      <th></th>\n",
       "      <th>ApplicantIncome</th>\n",
       "      <th>CoapplicantIncome</th>\n",
       "      <th>LoanAmount</th>\n",
       "      <th>Loan_Amount_Term</th>\n",
       "      <th>Credit_History</th>\n",
       "    </tr>\n",
       "    <tr>\n",
       "      <th></th>\n",
       "      <th></th>\n",
       "      <th></th>\n",
       "      <th></th>\n",
       "      <th></th>\n",
       "      <th></th>\n",
       "    </tr>\n",
       "  </thead>\n",
       "  <tbody>\n",
       "    <tr>\n",
       "      <th>ApplicantIncome</th>\n",
       "      <td>1.00</td>\n",
       "      <td>-0.12</td>\n",
       "      <td>0.54</td>\n",
       "      <td>-0.02</td>\n",
       "      <td>0.01</td>\n",
       "    </tr>\n",
       "    <tr>\n",
       "      <th>CoapplicantIncome</th>\n",
       "      <td>-0.12</td>\n",
       "      <td>1.00</td>\n",
       "      <td>0.19</td>\n",
       "      <td>-0.05</td>\n",
       "      <td>-0.06</td>\n",
       "    </tr>\n",
       "    <tr>\n",
       "      <th>LoanAmount</th>\n",
       "      <td>0.54</td>\n",
       "      <td>0.19</td>\n",
       "      <td>1.00</td>\n",
       "      <td>0.06</td>\n",
       "      <td>-0.03</td>\n",
       "    </tr>\n",
       "    <tr>\n",
       "      <th>Loan_Amount_Term</th>\n",
       "      <td>-0.02</td>\n",
       "      <td>-0.05</td>\n",
       "      <td>0.06</td>\n",
       "      <td>1.00</td>\n",
       "      <td>0.05</td>\n",
       "    </tr>\n",
       "    <tr>\n",
       "      <th>Credit_History</th>\n",
       "      <td>0.01</td>\n",
       "      <td>-0.06</td>\n",
       "      <td>-0.03</td>\n",
       "      <td>0.05</td>\n",
       "      <td>1.00</td>\n",
       "    </tr>\n",
       "  </tbody>\n",
       "</table>\n",
       "</div>"
      ],
      "text/plain": [
       "                   ApplicantIncome  CoapplicantIncome  LoanAmount  \\\n",
       "                                                                    \n",
       "ApplicantIncome               1.00              -0.12        0.54   \n",
       "CoapplicantIncome            -0.12               1.00        0.19   \n",
       "LoanAmount                    0.54               0.19        1.00   \n",
       "Loan_Amount_Term             -0.02              -0.05        0.06   \n",
       "Credit_History                0.01              -0.06       -0.03   \n",
       "\n",
       "                   Loan_Amount_Term  Credit_History  \n",
       "                                                     \n",
       "ApplicantIncome               -0.02            0.01  \n",
       "CoapplicantIncome             -0.05           -0.06  \n",
       "LoanAmount                     0.06           -0.03  \n",
       "Loan_Amount_Term               1.00            0.05  \n",
       "Credit_History                 0.05            1.00  "
      ]
     },
     "execution_count": 12,
     "metadata": {},
     "output_type": "execute_result"
    }
   ],
   "source": [
    "columns = ['ApplicantIncome', 'CoapplicantIncome', 'LoanAmount', 'Loan_Amount_Term', 'Credit_History']\n",
    "corr_df = pd.DataFrame()\n",
    "for i in columns:\n",
    "    corr = []\n",
    "    for j in columns:\n",
    "        corr.append(round(df.stat.corr(i,j),2))\n",
    "    corr_df = pd.concat([corr_df, pd.Series(corr)], axis=1)\n",
    "corr_df.columns = columns\n",
    "corr_df.insert(0,'',columns)\n",
    "corr_df.set_index(\"\")"
   ]
  },
  {
   "attachments": {},
   "cell_type": "markdown",
   "metadata": {},
   "source": [
    "## Perform SQL Operations"
   ]
  },
  {
   "cell_type": "code",
   "execution_count": 13,
   "metadata": {},
   "outputs": [],
   "source": [
    "import pyspark.sql as sparksql"
   ]
  },
  {
   "cell_type": "code",
   "execution_count": 14,
   "metadata": {},
   "outputs": [],
   "source": [
    "df.createOrReplaceTempView('table')"
   ]
  },
  {
   "cell_type": "code",
   "execution_count": 15,
   "metadata": {},
   "outputs": [
    {
     "name": "stdout",
     "output_type": "stream",
     "text": [
      "+--------+------+-------+----------+------------+-------------+---------------+-----------------+----------+----------------+--------------+-------------+-----------+\n",
      "| Loan_ID|Gender|Married|Dependents|   Education|Self_Employed|ApplicantIncome|CoapplicantIncome|LoanAmount|Loan_Amount_Term|Credit_History|Property_Area|Loan_Status|\n",
      "+--------+------+-------+----------+------------+-------------+---------------+-----------------+----------+----------------+--------------+-------------+-----------+\n",
      "|LP001002|  Male|     No|         0|    Graduate|           No|           5849|              0.0|      null|             360|             1|        Urban|          Y|\n",
      "|LP001003|  Male|    Yes|         1|    Graduate|           No|           4583|           1508.0|       128|             360|             1|        Rural|          N|\n",
      "|LP001005|  Male|    Yes|         0|    Graduate|          Yes|           3000|              0.0|        66|             360|             1|        Urban|          Y|\n",
      "|LP001006|  Male|    Yes|         0|Not Graduate|           No|           2583|           2358.0|       120|             360|             1|        Urban|          Y|\n",
      "|LP001008|  Male|     No|         0|    Graduate|           No|           6000|              0.0|       141|             360|             1|        Urban|          Y|\n",
      "|LP001011|  Male|    Yes|         2|    Graduate|          Yes|           5417|           4196.0|       267|             360|             1|        Urban|          Y|\n",
      "|LP001013|  Male|    Yes|         0|Not Graduate|           No|           2333|           1516.0|        95|             360|             1|        Urban|          Y|\n",
      "|LP001014|  Male|    Yes|        3+|    Graduate|           No|           3036|           2504.0|       158|             360|             0|    Semiurban|          N|\n",
      "|LP001018|  Male|    Yes|         2|    Graduate|           No|           4006|           1526.0|       168|             360|             1|        Urban|          Y|\n",
      "|LP001020|  Male|    Yes|         1|    Graduate|           No|          12841|          10968.0|       349|             360|             1|    Semiurban|          N|\n",
      "|LP001024|  Male|    Yes|         2|    Graduate|           No|           3200|            700.0|        70|             360|             1|        Urban|          Y|\n",
      "|LP001027|  Male|    Yes|         2|    Graduate|         null|           2500|           1840.0|       109|             360|             1|        Urban|          Y|\n",
      "|LP001028|  Male|    Yes|         2|    Graduate|           No|           3073|           8106.0|       200|             360|             1|        Urban|          Y|\n",
      "|LP001029|  Male|     No|         0|    Graduate|           No|           1853|           2840.0|       114|             360|             1|        Rural|          N|\n",
      "|LP001030|  Male|    Yes|         2|    Graduate|           No|           1299|           1086.0|        17|             120|             1|        Urban|          Y|\n",
      "|LP001032|  Male|     No|         0|    Graduate|           No|           4950|              0.0|       125|             360|             1|        Urban|          Y|\n",
      "|LP001034|  Male|     No|         1|Not Graduate|           No|           3596|              0.0|       100|             240|          null|        Urban|          Y|\n",
      "|LP001036|Female|     No|         0|    Graduate|           No|           3510|              0.0|        76|             360|             0|        Urban|          N|\n",
      "|LP001038|  Male|    Yes|         0|Not Graduate|           No|           4887|              0.0|       133|             360|             1|        Rural|          N|\n",
      "|LP001041|  Male|    Yes|         0|    Graduate|         null|           2600|           3500.0|       115|            null|             1|        Urban|          Y|\n",
      "+--------+------+-------+----------+------------+-------------+---------------+-----------------+----------+----------------+--------------+-------------+-----------+\n",
      "only showing top 20 rows\n",
      "\n"
     ]
    }
   ],
   "source": [
    "spark.sql(\"select * from table\").show()"
   ]
  },
  {
   "cell_type": "code",
   "execution_count": 16,
   "metadata": {},
   "outputs": [
    {
     "name": "stdout",
     "output_type": "stream",
     "text": [
      "+--------+\n",
      "|count(1)|\n",
      "+--------+\n",
      "|     475|\n",
      "+--------+\n",
      "\n"
     ]
    }
   ],
   "source": [
    "spark.sql('select count(*) from table where Credit_History=1').show()"
   ]
  },
  {
   "attachments": {},
   "cell_type": "markdown",
   "metadata": {},
   "source": [
    "## Data Cleaning"
   ]
  },
  {
   "cell_type": "code",
   "execution_count": 17,
   "metadata": {},
   "outputs": [
    {
     "name": "stdout",
     "output_type": "stream",
     "text": [
      "+-------+------+-------+----------+---------+-------------+---------------+-----------------+----------+----------------+--------------+-------------+-----------+\n",
      "|Loan_ID|Gender|Married|Dependents|Education|Self_Employed|ApplicantIncome|CoapplicantIncome|LoanAmount|Loan_Amount_Term|Credit_History|Property_Area|Loan_Status|\n",
      "+-------+------+-------+----------+---------+-------------+---------------+-----------------+----------+----------------+--------------+-------------+-----------+\n",
      "|      0|    13|      3|        15|        0|           32|              0|                0|        22|              14|            50|            0|          0|\n",
      "+-------+------+-------+----------+---------+-------------+---------------+-----------------+----------+----------------+--------------+-------------+-----------+\n",
      "\n"
     ]
    }
   ],
   "source": [
    "# Display null values\n",
    "df.select([F.count(F.when(F.col(c).isNull(), c)).alias(c) for c in df.columns]).show()"
   ]
  },
  {
   "cell_type": "code",
   "execution_count": 18,
   "metadata": {},
   "outputs": [
    {
     "data": {
      "text/plain": [
       "146.41216216216216"
      ]
     },
     "execution_count": 18,
     "metadata": {},
     "output_type": "execute_result"
    }
   ],
   "source": [
    "# Get mean value of column\n",
    "mean = df.select(F.mean(df['LoanAmount'])).collect()[0][0]\n",
    "mean"
   ]
  },
  {
   "cell_type": "code",
   "execution_count": 19,
   "metadata": {},
   "outputs": [],
   "source": [
    "# Fill LoanAmount null values\n",
    "df = df.na.fill(mean, ['LoanAmount'])"
   ]
  },
  {
   "cell_type": "code",
   "execution_count": 20,
   "metadata": {},
   "outputs": [
    {
     "data": {
      "text/plain": [
       "'Male'"
      ]
     },
     "execution_count": 20,
     "metadata": {},
     "output_type": "execute_result"
    }
   ],
   "source": [
    "# Get mode value of column\n",
    "mode = df.groupBy('Gender').count().orderBy(\"count\", ascending=False).first()[0]\n",
    "mode"
   ]
  },
  {
   "cell_type": "code",
   "execution_count": 21,
   "metadata": {},
   "outputs": [],
   "source": [
    "# Fill null values for all the columns\n",
    "numerical_cols = ['LoanAmount', 'Loan_Amount_Term']\n",
    "categorical_cols = ['Gender', 'Married', 'Dependents', 'Self_Employed', 'Credit_History']\n",
    "\n",
    "for col in numerical_cols:\n",
    "    mean = df.select(F.mean(df[col])).collect()[0][0]\n",
    "    df = df.na.fill(mean, [col])\n",
    "\n",
    "for col in categorical_cols:\n",
    "    mode = df.groupBy(col).count().orderBy(\"count\", ascending=False).first()[0]\n",
    "    df = df.na.fill(mode, [col])"
   ]
  },
  {
   "cell_type": "code",
   "execution_count": 22,
   "metadata": {},
   "outputs": [
    {
     "name": "stdout",
     "output_type": "stream",
     "text": [
      "+-------+------+-------+----------+---------+-------------+---------------+-----------------+----------+----------------+--------------+-------------+-----------+\n",
      "|Loan_ID|Gender|Married|Dependents|Education|Self_Employed|ApplicantIncome|CoapplicantIncome|LoanAmount|Loan_Amount_Term|Credit_History|Property_Area|Loan_Status|\n",
      "+-------+------+-------+----------+---------+-------------+---------------+-----------------+----------+----------------+--------------+-------------+-----------+\n",
      "|      0|     0|      0|         0|        0|            0|              0|                0|         0|               0|             0|            0|          0|\n",
      "+-------+------+-------+----------+---------+-------------+---------------+-----------------+----------+----------------+--------------+-------------+-----------+\n",
      "\n"
     ]
    }
   ],
   "source": [
    "df.select([F.count(F.when(F.col(c).isNull(), c)).alias(c) for c in df.columns]).show()"
   ]
  },
  {
   "cell_type": "code",
   "execution_count": 23,
   "metadata": {},
   "outputs": [
    {
     "name": "stdout",
     "output_type": "stream",
     "text": [
      "+--------+------+-------+----------+---------+-------------+---------------+-----------------+----------+----------------+--------------+-------------+-----------+-----------+\n",
      "| Loan_ID|Gender|Married|Dependents|Education|Self_Employed|ApplicantIncome|CoapplicantIncome|LoanAmount|Loan_Amount_Term|Credit_History|Property_Area|Loan_Status|TotalIncome|\n",
      "+--------+------+-------+----------+---------+-------------+---------------+-----------------+----------+----------------+--------------+-------------+-----------+-----------+\n",
      "|LP001002|  Male|     No|         0| Graduate|           No|           5849|              0.0|       146|             360|             1|        Urban|          Y|     5849.0|\n",
      "|LP001003|  Male|    Yes|         1| Graduate|           No|           4583|           1508.0|       128|             360|             1|        Rural|          N|     6091.0|\n",
      "+--------+------+-------+----------+---------+-------------+---------------+-----------------+----------+----------------+--------------+-------------+-----------+-----------+\n",
      "only showing top 2 rows\n",
      "\n"
     ]
    }
   ],
   "source": [
    "# Create new feature column\n",
    "df = df.withColumn('TotalIncome', F.col('ApplicantIncome') + F.col('CoapplicantIncome'))\n",
    "df.show(2)"
   ]
  },
  {
   "cell_type": "code",
   "execution_count": 24,
   "metadata": {},
   "outputs": [
    {
     "name": "stdout",
     "output_type": "stream",
     "text": [
      "+--------+------+-------+----------+---------+-------------+---------------+-----------------+----------+----------------+--------------+-------------+-----------+-----------+\n",
      "| Loan_ID|Gender|Married|Dependents|Education|Self_Employed|ApplicantIncome|CoapplicantIncome|LoanAmount|Loan_Amount_Term|Credit_History|Property_Area|Loan_Status|TotalIncome|\n",
      "+--------+------+-------+----------+---------+-------------+---------------+-----------------+----------+----------------+--------------+-------------+-----------+-----------+\n",
      "|LP001002|  Male|     No|         0| Graduate|           No|           5849|              0.0|       146|             360|             1|        Urban|          1|     5849.0|\n",
      "|LP001003|  Male|    Yes|         1| Graduate|           No|           4583|           1508.0|       128|             360|             1|        Rural|          0|     6091.0|\n",
      "+--------+------+-------+----------+---------+-------------+---------------+-----------------+----------+----------------+--------------+-------------+-----------+-----------+\n",
      "only showing top 2 rows\n",
      "\n"
     ]
    }
   ],
   "source": [
    "# How to find and replac values\n",
    "df = df.withColumn('Loan_Status', F.when(df['Loan_Status']=='Y', 1).otherwise(0))\n",
    "df.show(2)"
   ]
  },
  {
   "attachments": {},
   "cell_type": "markdown",
   "metadata": {},
   "source": [
    "## Feature Engineering"
   ]
  },
  {
   "cell_type": "code",
   "execution_count": 25,
   "metadata": {},
   "outputs": [
    {
     "name": "stdout",
     "output_type": "stream",
     "text": [
      "root\n",
      " |-- Loan_ID: string (nullable = true)\n",
      " |-- Gender: string (nullable = false)\n",
      " |-- Married: string (nullable = false)\n",
      " |-- Dependents: string (nullable = false)\n",
      " |-- Education: string (nullable = true)\n",
      " |-- Self_Employed: string (nullable = false)\n",
      " |-- ApplicantIncome: integer (nullable = true)\n",
      " |-- CoapplicantIncome: double (nullable = true)\n",
      " |-- LoanAmount: integer (nullable = true)\n",
      " |-- Loan_Amount_Term: integer (nullable = true)\n",
      " |-- Credit_History: integer (nullable = true)\n",
      " |-- Property_Area: string (nullable = true)\n",
      " |-- Loan_Status: integer (nullable = false)\n",
      " |-- TotalIncome: double (nullable = true)\n",
      "\n"
     ]
    }
   ],
   "source": [
    "df.printSchema()"
   ]
  },
  {
   "cell_type": "code",
   "execution_count": 26,
   "metadata": {},
   "outputs": [],
   "source": [
    "from pyspark.ml.feature import VectorAssembler, OneHotEncoder, StringIndexer\n",
    "from pyspark.ml import Pipeline"
   ]
  },
  {
   "cell_type": "code",
   "execution_count": 27,
   "metadata": {},
   "outputs": [],
   "source": [
    "categorical_columns = ['Gender', 'Married', 'Dependents', 'Education', 'Self_Employed', 'Property_Area', 'Credit_History']\n",
    "numerical_columns = ['ApplicantIncome', 'CoapplicantIncome', 'LoanAmount', 'Loan_Amount_Term', 'TotalIncome']\n",
    "\n",
    "# Index the string columns\n",
    "indexers = [StringIndexer(inputCol=col, outputCol=\"{0}_index\".format(col)) for col in categorical_columns]\n",
    "\n",
    "# Encode the indexed values\n",
    "encoders = [OneHotEncoder(dropLast=False, inputCol=indexer.getOutputCol(), outputCol=\"{0}_encoded\".format(indexer.getOutputCol()))\n",
    "            for indexer in indexers]\n",
    "\n",
    "input_columns = [encoder.getOutputCol() for encoder in encoders] + numerical_columns\n",
    "\n",
    "# Vectorize the encoded values\n",
    "assembler = VectorAssembler(inputCols=input_columns, outputCol=\"feature\")"
   ]
  },
  {
   "cell_type": "code",
   "execution_count": 28,
   "metadata": {},
   "outputs": [],
   "source": [
    "# Create the pipeline to transform the data\n",
    "pipeline = Pipeline(stages= indexers + encoders + [assembler])"
   ]
  },
  {
   "cell_type": "code",
   "execution_count": 29,
   "metadata": {},
   "outputs": [],
   "source": [
    "data_model = pipeline.fit(df)"
   ]
  },
  {
   "cell_type": "code",
   "execution_count": 30,
   "metadata": {},
   "outputs": [],
   "source": [
    "transformed_df = data_model.transform(df)"
   ]
  },
  {
   "cell_type": "code",
   "execution_count": 31,
   "metadata": {},
   "outputs": [
    {
     "name": "stdout",
     "output_type": "stream",
     "text": [
      "+--------+------+-------+----------+---------+-------------+---------------+-----------------+----------+----------------+--------------+-------------+-----------+-----------+------------+-------------+----------------+---------------+-------------------+-------------------+--------------------+--------------------+---------------------+------------------------+-----------------------+---------------------------+---------------------------+----------------------------+--------------------+\n",
      "| Loan_ID|Gender|Married|Dependents|Education|Self_Employed|ApplicantIncome|CoapplicantIncome|LoanAmount|Loan_Amount_Term|Credit_History|Property_Area|Loan_Status|TotalIncome|Gender_index|Married_index|Dependents_index|Education_index|Self_Employed_index|Property_Area_index|Credit_History_index|Gender_index_encoded|Married_index_encoded|Dependents_index_encoded|Education_index_encoded|Self_Employed_index_encoded|Property_Area_index_encoded|Credit_History_index_encoded|             feature|\n",
      "+--------+------+-------+----------+---------+-------------+---------------+-----------------+----------+----------------+--------------+-------------+-----------+-----------+------------+-------------+----------------+---------------+-------------------+-------------------+--------------------+--------------------+---------------------+------------------------+-----------------------+---------------------------+---------------------------+----------------------------+--------------------+\n",
      "|LP001002|  Male|     No|         0| Graduate|           No|           5849|              0.0|       146|             360|             1|        Urban|          1|     5849.0|         0.0|          1.0|             0.0|            0.0|                0.0|                1.0|                 0.0|       (2,[0],[1.0])|        (2,[1],[1.0])|           (4,[0],[1.0])|          (2,[0],[1.0])|              (2,[0],[1.0])|              (3,[1],[1.0])|               (2,[0],[1.0])|(22,[0,3,4,8,10,1...|\n",
      "+--------+------+-------+----------+---------+-------------+---------------+-----------------+----------+----------------+--------------+-------------+-----------+-----------+------------+-------------+----------------+---------------+-------------------+-------------------+--------------------+--------------------+---------------------+------------------------+-----------------------+---------------------------+---------------------------+----------------------------+--------------------+\n",
      "only showing top 1 row\n",
      "\n"
     ]
    }
   ],
   "source": [
    "transformed_df.show(1)"
   ]
  },
  {
   "cell_type": "code",
   "execution_count": 32,
   "metadata": {},
   "outputs": [],
   "source": [
    "# Get input feature and output columns\n",
    "transformed_df = transformed_df.select(['feature', 'Loan_Status'])"
   ]
  },
  {
   "cell_type": "code",
   "execution_count": 33,
   "metadata": {},
   "outputs": [],
   "source": [
    "# Split the data for train and test\n",
    "train_data, test_data = transformed_df.randomSplit([0.8, 0.2], seed=42)"
   ]
  },
  {
   "cell_type": "code",
   "execution_count": 34,
   "metadata": {},
   "outputs": [
    {
     "name": "stdout",
     "output_type": "stream",
     "text": [
      "+--------------------+-----------+\n",
      "|             feature|Loan_Status|\n",
      "+--------------------+-----------+\n",
      "|(22,[0,2,4,8,10,1...|          1|\n",
      "|(22,[0,2,4,8,10,1...|          1|\n",
      "|(22,[0,2,4,8,10,1...|          0|\n",
      "|(22,[0,2,4,8,10,1...|          1|\n",
      "|(22,[0,2,4,8,10,1...|          1|\n",
      "+--------------------+-----------+\n",
      "only showing top 5 rows\n",
      "\n"
     ]
    }
   ],
   "source": [
    "train_data.show(5)"
   ]
  },
  {
   "attachments": {},
   "cell_type": "markdown",
   "metadata": {},
   "source": [
    "## Model Training and Testing"
   ]
  },
  {
   "cell_type": "code",
   "execution_count": 35,
   "metadata": {},
   "outputs": [],
   "source": [
    "from pyspark.ml.classification import LogisticRegression, RandomForestClassifier\n",
    "from pyspark.ml.evaluation import BinaryClassificationEvaluator\n",
    "\n",
    "lr = LogisticRegression(featuresCol='feature', labelCol='Loan_Status')\n",
    "lr_model = lr.fit(train_data)"
   ]
  },
  {
   "cell_type": "code",
   "execution_count": 36,
   "metadata": {},
   "outputs": [
    {
     "name": "stdout",
     "output_type": "stream",
     "text": [
      "+--------------------+-----------+--------------------+--------------------+----------+\n",
      "|             feature|Loan_Status|       rawPrediction|         probability|prediction|\n",
      "+--------------------+-----------+--------------------+--------------------+----------+\n",
      "|(22,[0,2,4,8,10,1...|          1|[-2.1309019654107...|[0.10612939546952...|       1.0|\n",
      "|(22,[0,2,4,8,10,1...|          1|[-2.1965880165663...|[0.10005730505861...|       1.0|\n",
      "|(22,[0,2,4,8,10,1...|          1|[-2.1183870711017...|[0.10732249829704...|       1.0|\n",
      "|(22,[0,2,4,8,10,1...|          1|[-2.1420673697694...|[0.10507482746799...|       1.0|\n",
      "|(22,[0,2,4,8,10,1...|          1|[-2.1120272450757...|[0.10793332086955...|       1.0|\n",
      "|(22,[0,2,4,8,10,1...|          1|[-1.8438581820741...|[0.13659563082672...|       1.0|\n",
      "|(22,[0,2,4,8,10,1...|          0|[-1.9917058610226...|[0.12007650752153...|       1.0|\n",
      "|(22,[0,2,4,8,10,1...|          1|[-1.9866327570695...|[0.12061355619972...|       1.0|\n",
      "|(22,[0,2,4,8,10,1...|          1|[-1.4688133236005...|[0.18712304994446...|       1.0|\n",
      "|(22,[0,2,4,8,10,1...|          1|[-1.4681069077669...|[0.18723052520390...|       1.0|\n",
      "+--------------------+-----------+--------------------+--------------------+----------+\n",
      "only showing top 10 rows\n",
      "\n"
     ]
    }
   ],
   "source": [
    "# Predict on test data\n",
    "predictions = lr_model.transform(test_data)\n",
    "predictions.show(10)"
   ]
  },
  {
   "cell_type": "code",
   "execution_count": 37,
   "metadata": {},
   "outputs": [
    {
     "name": "stdout",
     "output_type": "stream",
     "text": [
      "AUC: 0.782010582010582\n"
     ]
    }
   ],
   "source": [
    "auc = BinaryClassificationEvaluator().setLabelCol('Loan_Status')\n",
    "print('AUC:', str(auc.evaluate(predictions)))"
   ]
  },
  {
   "cell_type": "code",
   "execution_count": 38,
   "metadata": {},
   "outputs": [],
   "source": [
    "rfc = RandomForestClassifier(featuresCol='feature', labelCol='Loan_Status')\n",
    "rfc_model = rfc.fit(train_data)"
   ]
  },
  {
   "cell_type": "code",
   "execution_count": 39,
   "metadata": {},
   "outputs": [
    {
     "name": "stdout",
     "output_type": "stream",
     "text": [
      "+--------------------+-----------+--------------------+--------------------+----------+\n",
      "|             feature|Loan_Status|       rawPrediction|         probability|prediction|\n",
      "+--------------------+-----------+--------------------+--------------------+----------+\n",
      "|(22,[0,2,4,8,10,1...|          1|[2.65747826707479...|[0.13287391335373...|       1.0|\n",
      "|(22,[0,2,4,8,10,1...|          1|[2.63347961911130...|[0.13167398095556...|       1.0|\n",
      "|(22,[0,2,4,8,10,1...|          1|[2.90830250608218...|[0.14541512530410...|       1.0|\n",
      "|(22,[0,2,4,8,10,1...|          1|[2.88083450757739...|[0.14404172537886...|       1.0|\n",
      "|(22,[0,2,4,8,10,1...|          1|[3.50402613552576...|[0.17520130677628...|       1.0|\n",
      "|(22,[0,2,4,8,10,1...|          1|[4.29509610339021...|[0.21475480516951...|       1.0|\n",
      "|(22,[0,2,4,8,10,1...|          0|[3.79164518314481...|[0.18958225915724...|       1.0|\n",
      "|(22,[0,2,4,8,10,1...|          1|[6.43973596601742...|[0.32198679830087...|       1.0|\n",
      "|(22,[0,2,4,8,10,1...|          1|[5.27321567051284...|[0.26366078352564...|       1.0|\n",
      "|(22,[0,2,4,8,10,1...|          1|[3.60152278953880...|[0.18007613947694...|       1.0|\n",
      "+--------------------+-----------+--------------------+--------------------+----------+\n",
      "only showing top 10 rows\n",
      "\n"
     ]
    }
   ],
   "source": [
    "predictions2 = rfc_model.transform(test_data)\n",
    "predictions2.show(10)"
   ]
  },
  {
   "cell_type": "code",
   "execution_count": 40,
   "metadata": {},
   "outputs": [
    {
     "name": "stdout",
     "output_type": "stream",
     "text": [
      "AUC: 0.8301587301587302\n"
     ]
    }
   ],
   "source": [
    "auc2 = BinaryClassificationEvaluator().setLabelCol('Loan_Status')\n",
    "print('AUC:', str(auc.evaluate(predictions2)))"
   ]
  }
 ],
 "metadata": {
  "kernelspec": {
   "display_name": "Python 3",
   "language": "python",
   "name": "python3"
  },
  "language_info": {
   "codemirror_mode": {
    "name": "ipython",
    "version": 3
   },
   "file_extension": ".py",
   "mimetype": "text/x-python",
   "name": "python",
   "nbconvert_exporter": "python",
   "pygments_lexer": "ipython3",
   "version": "3.9.9"
  },
  "orig_nbformat": 4
 },
 "nbformat": 4,
 "nbformat_minor": 2
}
